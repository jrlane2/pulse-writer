{
 "cells": [
  {
   "cell_type": "code",
   "execution_count": 1,
   "metadata": {},
   "outputs": [],
   "source": [
    "import sys\n",
    "sys.path.append(sys.path[0].split('NewEP3Exp')[0] + 'NewEP3Exp/Code')\n",
    "sys.path.append(sys.path[0].split('NewEP3Exp')[0] + 'NewEP3Exp/Code/Instruments/SpectrumInstruments')\n",
    "\n",
    "%matplotlib inline\n",
    "import matplotlib.pyplot as plt\n",
    "import numpy as np\n",
    "# import SpectrumAWG as SI\n",
    "import time\n",
    "from numba import jit\n"
   ]
  },
  {
   "cell_type": "code",
   "execution_count": 2,
   "metadata": {},
   "outputs": [],
   "source": [
    "SR = 625e6 # max samling rate\n",
    "l = 200e-3*SR # a \"long\" ringdown might take 200 ms\n",
    "samps = np.arange(int(l))\n",
    "tstamps = samps/SR # We'd probably want to pass around timestamps instead of sample number since that'll be something we compute a lot\n",
    "\n",
    "# lets try to do this with some actually realistic parameters\n",
    "\n",
    "f0 = 83e6 # frequency corresponding to Delta = 0\n",
    "\n",
    "fm1 = 2.423806731707168*1e6 # Hz\n",
    "fm2 = 3.330978169785124*1e6 # Hz\n",
    "\n",
    "eta = -50 # Hz\n",
    "delta_1 = -0.5e6 # Hz\n",
    "delta_2 = -0.735e6 # Hz\n",
    "delta_blue = 3.5e6 # Hz\n",
    "\n",
    "F1_1 = f0 - fm1 + eta/2 + delta_1\n",
    "F2_1 = f0 - fm2 - eta/2 + delta_1\n",
    "F3 = f0 + delta_blue\n",
    "\n",
    "\n",
    "F1_2 = f0 - fm1 + eta/2 + delta_2\n",
    "F2_2 = f0 - fm2 - eta/2 + delta_2\n",
    "\n",
    "A1_1 = .23452\n",
    "A2_1 = .52341\n",
    "A3 = .315673\n",
    "\n",
    "A1_2 = .12367\n",
    "A2_2 = .35256\n",
    "\n",
    "\n",
    "def func1(samp, SR, f1, f2, a1, a2):\n",
    "    return a1*np.cos(f1*samps/SR) + a2*np.cos(f2*samps/SR)\n",
    "\n",
    "@jit(nopython = False)\n",
    "def func2(samp, SR, f1, f2, a1, a2):\n",
    "    return a1*np.cos(f1*samps/SR) + a2*np.cos(f2*samps/SR)\n",
    "\n",
    "@jit(nopython = False, parallel = True)\n",
    "def func3(samp, SR, f1, f2, a1, a2):\n",
    "    return a1*np.cos(f1*samps/SR) + a2*np.cos(f2*samps/SR)\n",
    "\n",
    "@jit(nopython = False, parallel = True)\n",
    "def func4(t, f1, f2, a1, a2):\n",
    "    return a1*np.cos(f1*t) + a2*np.cos(f2*t)\n",
    "\n",
    "\n"
   ]
  },
  {
   "cell_type": "code",
   "execution_count": 3,
   "metadata": {},
   "outputs": [
    {
     "name": "stdout",
     "output_type": "stream",
     "text": [
      "6.17 s ± 158 ms per loop (mean ± std. dev. of 7 runs, 1 loop each)\n"
     ]
    }
   ],
   "source": [
    "%%timeit \n",
    "\n",
    "y = func1(samps, SR, F1_1, F1_2, A1_1, A1_2)"
   ]
  },
  {
   "cell_type": "code",
   "execution_count": 4,
   "metadata": {},
   "outputs": [
    {
     "name": "stdout",
     "output_type": "stream",
     "text": [
      "4.41 s ± 58.9 ms per loop (mean ± std. dev. of 7 runs, 1 loop each)\n"
     ]
    }
   ],
   "source": [
    "%%timeit \n",
    "\n",
    "y = func2(samps, SR, F1_1, F1_2, A1_1, A1_2)"
   ]
  },
  {
   "cell_type": "code",
   "execution_count": 5,
   "metadata": {},
   "outputs": [
    {
     "name": "stdout",
     "output_type": "stream",
     "text": [
      "789 ms ± 16.4 ms per loop (mean ± std. dev. of 7 runs, 1 loop each)\n"
     ]
    }
   ],
   "source": [
    "%%timeit \n",
    "\n",
    "y = func3(samps, SR, F1_1, F1_2, A1_1, A1_2)"
   ]
  },
  {
   "cell_type": "code",
   "execution_count": 7,
   "metadata": {},
   "outputs": [
    {
     "name": "stdout",
     "output_type": "stream",
     "text": [
      "743 ms ± 13.1 ms per loop (mean ± std. dev. of 7 runs, 1 loop each)\n"
     ]
    }
   ],
   "source": [
    "%%timeit \n",
    "\n",
    "y = func4(samps, F1_1, F1_2, A1_1, A1_2)"
   ]
  },
  {
   "cell_type": "code",
   "execution_count": 9,
   "metadata": {},
   "outputs": [],
   "source": [
    "class pulse_writer():\n",
    "    def __init(pAOM = 83e6, SR = 625e6):\n",
    "        self.pAOM = pAOM # probe AOM frequency  \n",
    "        self.SR = SR"
   ]
  },
  {
   "cell_type": "code",
   "execution_count": null,
   "metadata": {},
   "outputs": [],
   "source": []
  }
 ],
 "metadata": {
  "kernelspec": {
   "display_name": "base",
   "language": "python",
   "name": "python3"
  },
  "language_info": {
   "codemirror_mode": {
    "name": "ipython",
    "version": 3
   },
   "file_extension": ".py",
   "mimetype": "text/x-python",
   "name": "python",
   "nbconvert_exporter": "python",
   "pygments_lexer": "ipython3",
   "version": "3.8.8"
  }
 },
 "nbformat": 4,
 "nbformat_minor": 2
}
